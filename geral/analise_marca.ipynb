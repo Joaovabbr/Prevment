{
 "cells": [
  {
   "cell_type": "markdown",
   "id": "cd15adb0",
   "metadata": {},
   "source": [
    "### Imports necessários"
   ]
  },
  {
   "cell_type": "code",
   "execution_count": null,
   "id": "d5a30512",
   "metadata": {},
   "outputs": [
    {
     "name": "stderr",
     "output_type": "stream",
     "text": [
      "c:\\Users\\joaov\\OneDrive - Insper - Instituto de Ensino e Pesquisa\\Insper\\5° semestre\\InsperData\\Prevment\\env\\Lib\\site-packages\\tqdm\\auto.py:21: TqdmWarning: IProgress not found. Please update jupyter and ipywidgets. See https://ipywidgets.readthedocs.io/en/stable/user_install.html\n",
      "  from .autonotebook import tqdm as notebook_tqdm\n",
      "Device set to use cpu\n"
     ]
    }
   ],
   "source": [
    "import sys\n",
    "from pathlib import Path\n",
    "ROOT_DIR = Path().resolve().parents[0] \n",
    "sys.path.append(str(ROOT_DIR))\n",
    "import word_analiser\n",
    "from sqlite_handler import SQLiteHandler\n",
    "import pandas as pd"
   ]
  },
  {
   "cell_type": "markdown",
   "id": "d90b0f86",
   "metadata": {},
   "source": [
    "### Variaveis e constantes"
   ]
  },
  {
   "cell_type": "code",
   "execution_count": null,
   "id": "f0e09e5d",
   "metadata": {},
   "outputs": [],
   "source": []
  },
  {
   "cell_type": "markdown",
   "id": "f53abf0e",
   "metadata": {},
   "source": [
    "- Carregar base de dados"
   ]
  },
  {
   "cell_type": "code",
   "execution_count": 2,
   "id": "0b0d7e58",
   "metadata": {},
   "outputs": [
    {
     "data": {
      "application/vnd.microsoft.datawrangler.viewer.v0+json": {
       "columns": [
        {
         "name": "index",
         "rawType": "int64",
         "type": "integer"
        },
        {
         "name": "id",
         "rawType": "object",
         "type": "string"
        },
        {
         "name": "entity",
         "rawType": "object",
         "type": "string"
        },
        {
         "name": "user",
         "rawType": "object",
         "type": "unknown"
        },
        {
         "name": "text",
         "rawType": "object",
         "type": "unknown"
        },
        {
         "name": "title",
         "rawType": "object",
         "type": "string"
        },
        {
         "name": "url",
         "rawType": "object",
         "type": "string"
        },
        {
         "name": "owner",
         "rawType": "object",
         "type": "string"
        },
        {
         "name": "likes",
         "rawType": "float64",
         "type": "float"
        },
        {
         "name": "shares",
         "rawType": "float64",
         "type": "float"
        },
        {
         "name": "coments",
         "rawType": "float64",
         "type": "float"
        },
        {
         "name": "views",
         "rawType": "float64",
         "type": "float"
        },
        {
         "name": "date",
         "rawType": "object",
         "type": "string"
        },
        {
         "name": "origem",
         "rawType": "object",
         "type": "string"
        }
       ],
       "ref": "d54fe7bb-6b62-4b70-8fb6-a33a68770359",
       "rows": [
        [
         "0",
         "d34575e3b28a351e7fd5476400a12e2c",
         "Nike",
         null,
         null,
         "Descontou na Netshoes: compre produtos Nike, Adidas, Fila e mais com até 80% OFF",
         "https://www.tecmundo.com.br/produto/405060-descontou-na-netshoes-compre-produtos-nike-adidas-fila-e-mais-com-ate-80-off.htm",
         "Sem fonte",
         null,
         null,
         null,
         null,
         "Sem tempo",
         "bing_google"
        ],
        [
         "1",
         "0ef88057c79a7e8da76b1605beae5b1e",
         "Nike",
         null,
         null,
         "Nike oferece Roupas de moda casual para adulto masculino com até 50% OFF + 10% OFF na sua primeira compra usando o cupom Nike",
         "https://revistaforum.com.br/cupom/nike/20-off-em-roupa-casual-masculina-no-cupom-nike",
         "revistaforum",
         null,
         null,
         null,
         null,
         "11meses",
         "bing_google"
        ],
        [
         "2",
         "e8dcc3562bcaeb7adf2335e67d94bae5",
         "Nike",
         null,
         null,
         "Nike oferece Roupas polos para adulto masculino com até 51% OFF + 10% OFF na sua primeira compra usando o cupom Nike",
         "https://revistaforum.com.br/cupom/nike/15-off-em-camisa-polo-masculina-no-cupom-nike",
         "revistaforum",
         null,
         null,
         null,
         null,
         "11meses",
         "bing_google"
        ],
        [
         "3",
         "5e6ac8525c60fdf475554e59a6c9da9a",
         "Nike",
         null,
         null,
         "Cupom de desconto Nike",
         "https://www.cartacapital.com.br/cupons/cashback/nike",
         "Carta Capital",
         null,
         null,
         null,
         null,
         "2meses",
         "bing_google"
        ],
        [
         "4",
         "eaf630cd2f8ec2299371279a1482f053",
         "Nike",
         null,
         null,
         "Subida de preços da Nike começa na próxima semana: mas nem todos os produtos vão ficar mais caros",
         "https://clickpetroleoegas.com.br/subida-de-precos-da-nike-comeca-na-proxima-semana-mas-nem-todos-os-produtos-vao-ficar-mais-caros-afch/",
         "Click Petróleo e Gás",
         null,
         null,
         null,
         null,
         "12dia(s)",
         "bing_google"
        ]
       ],
       "shape": {
        "columns": 13,
        "rows": 5
       }
      },
      "text/html": [
       "<div>\n",
       "<style scoped>\n",
       "    .dataframe tbody tr th:only-of-type {\n",
       "        vertical-align: middle;\n",
       "    }\n",
       "\n",
       "    .dataframe tbody tr th {\n",
       "        vertical-align: top;\n",
       "    }\n",
       "\n",
       "    .dataframe thead th {\n",
       "        text-align: right;\n",
       "    }\n",
       "</style>\n",
       "<table border=\"1\" class=\"dataframe\">\n",
       "  <thead>\n",
       "    <tr style=\"text-align: right;\">\n",
       "      <th></th>\n",
       "      <th>id</th>\n",
       "      <th>entity</th>\n",
       "      <th>user</th>\n",
       "      <th>text</th>\n",
       "      <th>title</th>\n",
       "      <th>url</th>\n",
       "      <th>owner</th>\n",
       "      <th>likes</th>\n",
       "      <th>shares</th>\n",
       "      <th>coments</th>\n",
       "      <th>views</th>\n",
       "      <th>date</th>\n",
       "      <th>origem</th>\n",
       "    </tr>\n",
       "  </thead>\n",
       "  <tbody>\n",
       "    <tr>\n",
       "      <th>0</th>\n",
       "      <td>d34575e3b28a351e7fd5476400a12e2c</td>\n",
       "      <td>Nike</td>\n",
       "      <td>None</td>\n",
       "      <td>None</td>\n",
       "      <td>Descontou na Netshoes: compre produtos Nike, A...</td>\n",
       "      <td>https://www.tecmundo.com.br/produto/405060-des...</td>\n",
       "      <td>Sem fonte</td>\n",
       "      <td>NaN</td>\n",
       "      <td>NaN</td>\n",
       "      <td>NaN</td>\n",
       "      <td>NaN</td>\n",
       "      <td>Sem tempo</td>\n",
       "      <td>bing_google</td>\n",
       "    </tr>\n",
       "    <tr>\n",
       "      <th>1</th>\n",
       "      <td>0ef88057c79a7e8da76b1605beae5b1e</td>\n",
       "      <td>Nike</td>\n",
       "      <td>None</td>\n",
       "      <td>None</td>\n",
       "      <td>Nike oferece Roupas de moda casual para adulto...</td>\n",
       "      <td>https://revistaforum.com.br/cupom/nike/20-off-...</td>\n",
       "      <td>revistaforum</td>\n",
       "      <td>NaN</td>\n",
       "      <td>NaN</td>\n",
       "      <td>NaN</td>\n",
       "      <td>NaN</td>\n",
       "      <td>11meses</td>\n",
       "      <td>bing_google</td>\n",
       "    </tr>\n",
       "    <tr>\n",
       "      <th>2</th>\n",
       "      <td>e8dcc3562bcaeb7adf2335e67d94bae5</td>\n",
       "      <td>Nike</td>\n",
       "      <td>None</td>\n",
       "      <td>None</td>\n",
       "      <td>Nike oferece Roupas polos para adulto masculin...</td>\n",
       "      <td>https://revistaforum.com.br/cupom/nike/15-off-...</td>\n",
       "      <td>revistaforum</td>\n",
       "      <td>NaN</td>\n",
       "      <td>NaN</td>\n",
       "      <td>NaN</td>\n",
       "      <td>NaN</td>\n",
       "      <td>11meses</td>\n",
       "      <td>bing_google</td>\n",
       "    </tr>\n",
       "    <tr>\n",
       "      <th>3</th>\n",
       "      <td>5e6ac8525c60fdf475554e59a6c9da9a</td>\n",
       "      <td>Nike</td>\n",
       "      <td>None</td>\n",
       "      <td>None</td>\n",
       "      <td>Cupom de desconto Nike</td>\n",
       "      <td>https://www.cartacapital.com.br/cupons/cashbac...</td>\n",
       "      <td>Carta Capital</td>\n",
       "      <td>NaN</td>\n",
       "      <td>NaN</td>\n",
       "      <td>NaN</td>\n",
       "      <td>NaN</td>\n",
       "      <td>2meses</td>\n",
       "      <td>bing_google</td>\n",
       "    </tr>\n",
       "    <tr>\n",
       "      <th>4</th>\n",
       "      <td>eaf630cd2f8ec2299371279a1482f053</td>\n",
       "      <td>Nike</td>\n",
       "      <td>None</td>\n",
       "      <td>None</td>\n",
       "      <td>Subida de preços da Nike começa na próxima sem...</td>\n",
       "      <td>https://clickpetroleoegas.com.br/subida-de-pre...</td>\n",
       "      <td>Click Petróleo e Gás</td>\n",
       "      <td>NaN</td>\n",
       "      <td>NaN</td>\n",
       "      <td>NaN</td>\n",
       "      <td>NaN</td>\n",
       "      <td>12dia(s)</td>\n",
       "      <td>bing_google</td>\n",
       "    </tr>\n",
       "  </tbody>\n",
       "</table>\n",
       "</div>"
      ],
      "text/plain": [
       "                                 id entity  user  text  \\\n",
       "0  d34575e3b28a351e7fd5476400a12e2c   Nike  None  None   \n",
       "1  0ef88057c79a7e8da76b1605beae5b1e   Nike  None  None   \n",
       "2  e8dcc3562bcaeb7adf2335e67d94bae5   Nike  None  None   \n",
       "3  5e6ac8525c60fdf475554e59a6c9da9a   Nike  None  None   \n",
       "4  eaf630cd2f8ec2299371279a1482f053   Nike  None  None   \n",
       "\n",
       "                                               title  \\\n",
       "0  Descontou na Netshoes: compre produtos Nike, A...   \n",
       "1  Nike oferece Roupas de moda casual para adulto...   \n",
       "2  Nike oferece Roupas polos para adulto masculin...   \n",
       "3                             Cupom de desconto Nike   \n",
       "4  Subida de preços da Nike começa na próxima sem...   \n",
       "\n",
       "                                                 url                 owner  \\\n",
       "0  https://www.tecmundo.com.br/produto/405060-des...             Sem fonte   \n",
       "1  https://revistaforum.com.br/cupom/nike/20-off-...          revistaforum   \n",
       "2  https://revistaforum.com.br/cupom/nike/15-off-...          revistaforum   \n",
       "3  https://www.cartacapital.com.br/cupons/cashbac...         Carta Capital   \n",
       "4  https://clickpetroleoegas.com.br/subida-de-pre...  Click Petróleo e Gás   \n",
       "\n",
       "   likes  shares  coments  views       date       origem  \n",
       "0    NaN     NaN      NaN    NaN  Sem tempo  bing_google  \n",
       "1    NaN     NaN      NaN    NaN    11meses  bing_google  \n",
       "2    NaN     NaN      NaN    NaN    11meses  bing_google  \n",
       "3    NaN     NaN      NaN    NaN     2meses  bing_google  \n",
       "4    NaN     NaN      NaN    NaN   12dia(s)  bing_google  "
      ]
     },
     "execution_count": 2,
     "metadata": {},
     "output_type": "execute_result"
    }
   ],
   "source": [
    "sqlite = SQLiteHandler(Path().resolve() / 'dbs_union.db')\n",
    "\n",
    "df = pd.DataFrame(sqlite.fetch_data('posts_unificados'))\n",
    "df.columns = [\n",
    "    \"id\", \"entity\", \"user\", \"text\", \"title\", \"url\", \"owner\",\n",
    "    \"likes\", \"shares\", \"coments\", \"views\", \"date\", \"origem\"\n",
    "]\n",
    "df.head()"
   ]
  },
  {
   "cell_type": "markdown",
   "id": "c9e0e70d",
   "metadata": {},
   "source": [
    "- Classificando textos"
   ]
  },
  {
   "cell_type": "code",
   "execution_count": 3,
   "id": "50112ea1",
   "metadata": {},
   "outputs": [
    {
     "name": "stdout",
     "output_type": "stream",
     "text": [
      "Erro na linha 717: The size of tensor a (813) must match the size of tensor b (512) at non-singleton dimension 1\n",
      "Erro na linha 866: The size of tensor a (536) must match the size of tensor b (512) at non-singleton dimension 1\n",
      "Erro na linha 1934: The size of tensor a (549) must match the size of tensor b (512) at non-singleton dimension 1\n",
      "Erro na linha 1957: The size of tensor a (557) must match the size of tensor b (512) at non-singleton dimension 1\n",
      "Erro na linha 1992: The size of tensor a (529) must match the size of tensor b (512) at non-singleton dimension 1\n",
      "Erro na linha 2090: The size of tensor a (624) must match the size of tensor b (512) at non-singleton dimension 1\n",
      "Erro na linha 2098: The size of tensor a (1094) must match the size of tensor b (512) at non-singleton dimension 1\n",
      "Erro na linha 2101: The size of tensor a (684) must match the size of tensor b (512) at non-singleton dimension 1\n",
      "Erro na linha 2103: The size of tensor a (684) must match the size of tensor b (512) at non-singleton dimension 1\n",
      "Erro na linha 2107: The size of tensor a (978) must match the size of tensor b (512) at non-singleton dimension 1\n",
      "Erro na linha 2125: The size of tensor a (570) must match the size of tensor b (512) at non-singleton dimension 1\n",
      "Erro na linha 2139: The size of tensor a (538) must match the size of tensor b (512) at non-singleton dimension 1\n",
      "Erro na linha 2154: The size of tensor a (773) must match the size of tensor b (512) at non-singleton dimension 1\n",
      "Erro na linha 2166: The size of tensor a (969) must match the size of tensor b (512) at non-singleton dimension 1\n",
      "Erro na linha 2167: The size of tensor a (585) must match the size of tensor b (512) at non-singleton dimension 1\n",
      "Erro na linha 2173: The size of tensor a (518) must match the size of tensor b (512) at non-singleton dimension 1\n",
      "Erro na linha 2236: The size of tensor a (604) must match the size of tensor b (512) at non-singleton dimension 1\n"
     ]
    }
   ],
   "source": [
    "# Cria a nova coluna vazia\n",
    "df[\"classificacao\"] = \"\"\n",
    "\n",
    "for index, row in df.iterrows():\n",
    "    if row[\"origem\"] == \"bing_google\":\n",
    "        texto = row[\"title\"] if pd.notna(row[\"title\"]) else \"\"\n",
    "    else:\n",
    "        texto = row[\"text\"] if pd.notna(row[\"text\"]) else \"\"\n",
    "    try:\n",
    "        classificacao = word_analiser.word_analyser(texto)[0]['label']\n",
    "    except Exception as e:\n",
    "        print(f\"Erro na linha {index}: {e}\")\n",
    "        classificacao = \"erro\"\n",
    "        \n",
    "    df.at[index, \"classificacao\"] = classificacao\n"
   ]
  },
  {
   "cell_type": "code",
   "execution_count": 4,
   "id": "e60ac4d6",
   "metadata": {},
   "outputs": [],
   "source": [
    "\n",
    "# Substitui NaN por 0 nas métricas\n",
    "df[['likes', 'shares', 'views', 'coments']] = df[['likes', 'shares', 'views', 'coments']].fillna(0)\n",
    "\n",
    "# Normaliza as colunas por seu máximo (evita divisão por zero com replace)\n",
    "for col in ['likes', 'shares', 'views', 'coments']:\n",
    "    max_val = df[col].max()\n",
    "    if max_val > 0:\n",
    "        df[col + '_norm'] = df[col] / max_val\n",
    "    else:\n",
    "        df[col + '_norm'] = 0\n"
   ]
  },
  {
   "cell_type": "code",
   "execution_count": 5,
   "id": "fc81c1a2",
   "metadata": {},
   "outputs": [],
   "source": [
    "def calcular_score_post(row):\n",
    "    if row.get('origem', '') != 'bing_google':\n",
    "        likes = row.get('likes_norm', 0) or 0\n",
    "        shares = row.get('shares_norm', 0) or 0\n",
    "        views = row.get('views_norm', 0) or 0\n",
    "        coments = row.get('coments_norm', 0) or 0\n",
    "\n",
    "        base_score = (\n",
    "            0.3 * likes +\n",
    "            0.4 * shares +\n",
    "            0.1 * views +\n",
    "            0.2 * coments\n",
    "        )\n",
    "        sentimento = row.get('classificacao', '').lower()\n",
    "        if sentimento == 'positivo':\n",
    "            fator = 1.2\n",
    "        elif sentimento == 'neutro':\n",
    "            fator = 1.0\n",
    "        elif sentimento == 'negativo':\n",
    "            fator = 0.7\n",
    "        else:\n",
    "            fator = 1.0\n",
    "    else:\n",
    "        base_score = 1\n",
    "\n",
    "        sentimento = row.get('classificacao', '').lower()\n",
    "        if sentimento == 'positivo':\n",
    "            fator = 1\n",
    "        elif sentimento == 'neutro':\n",
    "            fator = 0.5\n",
    "        elif sentimento == 'negativo':\n",
    "            fator = 0.01\n",
    "        else:\n",
    "            fator = 1.0\n",
    "\n",
    "    \n",
    "\n",
    "    return base_score * fator\n",
    "\n",
    "df['score_post'] = df.apply(calcular_score_post, axis=1)"
   ]
  },
  {
   "cell_type": "code",
   "execution_count": 6,
   "id": "37d4a402",
   "metadata": {},
   "outputs": [
    {
     "data": {
      "application/vnd.microsoft.datawrangler.viewer.v0+json": {
       "columns": [
        {
         "name": "index",
         "rawType": "int64",
         "type": "integer"
        },
        {
         "name": "id",
         "rawType": "object",
         "type": "string"
        },
        {
         "name": "entity",
         "rawType": "object",
         "type": "string"
        },
        {
         "name": "user",
         "rawType": "object",
         "type": "string"
        },
        {
         "name": "text",
         "rawType": "object",
         "type": "string"
        },
        {
         "name": "title",
         "rawType": "object",
         "type": "unknown"
        },
        {
         "name": "url",
         "rawType": "object",
         "type": "unknown"
        },
        {
         "name": "owner",
         "rawType": "object",
         "type": "unknown"
        },
        {
         "name": "likes",
         "rawType": "float64",
         "type": "float"
        },
        {
         "name": "shares",
         "rawType": "float64",
         "type": "float"
        },
        {
         "name": "coments",
         "rawType": "float64",
         "type": "float"
        },
        {
         "name": "views",
         "rawType": "float64",
         "type": "float"
        },
        {
         "name": "date",
         "rawType": "object",
         "type": "unknown"
        },
        {
         "name": "origem",
         "rawType": "object",
         "type": "string"
        },
        {
         "name": "classificacao",
         "rawType": "object",
         "type": "string"
        },
        {
         "name": "likes_norm",
         "rawType": "float64",
         "type": "float"
        },
        {
         "name": "shares_norm",
         "rawType": "float64",
         "type": "float"
        },
        {
         "name": "views_norm",
         "rawType": "float64",
         "type": "float"
        },
        {
         "name": "coments_norm",
         "rawType": "float64",
         "type": "float"
        },
        {
         "name": "score_post",
         "rawType": "float64",
         "type": "float"
        }
       ],
       "ref": "2a7e30b4-8fe7-496d-9350-d9b0fc1c204e",
       "rows": [
        [
         "3929",
         "417cdfd9c85d5ad67db881d389881c6e",
         "Adidas",
         "jay",
         "I wish I still had the videos nigga used to be speechless shot that nigga for 30 mins straight nigga had the never to wear Nike socks with adidas sandals his response was “the hoes love it”",
         null,
         null,
         null,
         "0.0",
         "0.0",
         "0.0",
         "11.0",
         null,
         "x",
         "NEUTRAL",
         "0.0",
         "0.0",
         "1.2114884346908613e-05",
         "0.0",
         "1.2114884346908614e-06"
        ],
        [
         "3930",
         "57310199e28eaf37fd44d9b221cecec1",
         "Adidas",
         "にき",
         "ヒョンジンがY-3着てたりadidas着てるのほんとにすき",
         null,
         null,
         null,
         "0.0",
         "0.0",
         "0.0",
         "36.0",
         null,
         "x",
         "NEGATIVE",
         "0.0",
         "0.0",
         "3.964871240806455e-05",
         "0.0",
         "3.964871240806456e-06"
        ],
        [
         "3931",
         "ed4f1caed5701a77195f3565fe182b32",
         "Adidas",
         "Soulpower",
         "Si hubo mucha plata de Adidas",
         null,
         null,
         null,
         "0.0",
         "0.0",
         "0.0",
         "1464.0",
         null,
         "x",
         "NEUTRAL",
         "0.0",
         "0.0",
         "0.0016123809712612917",
         "0.0",
         "0.00016123809712612918"
        ],
        [
         "3932",
         "a0599c6edf0e0f2e6430d3bd125a7920",
         "Adidas",
         "生活の知恵Box",
         "adidas(アディダス)のメンズのジャージ上下セット　<PR>",
         null,
         null,
         null,
         "0.0",
         "0.0",
         "0.0",
         "308.0",
         null,
         "x",
         "NEUTRAL",
         "0.0",
         "0.0",
         "0.0003392167617134411",
         "0.0",
         "3.392167617134411e-05"
        ],
        [
         "3933",
         "4e640ccedb0c981b89ddc89b5717e654",
         "Adidas",
         "Arlos.ip",
         "This initial",
         null,
         null,
         null,
         "3.0",
         "0.0",
         "2.0",
         "30.0",
         null,
         "x",
         "NEUTRAL",
         "1.3452914798206278e-05",
         "0.0",
         "3.3040593673387125e-05",
         "0.00023255813953488373",
         "5.385156171377734e-05"
        ]
       ],
       "shape": {
        "columns": 19,
        "rows": 5
       }
      },
      "text/html": [
       "<div>\n",
       "<style scoped>\n",
       "    .dataframe tbody tr th:only-of-type {\n",
       "        vertical-align: middle;\n",
       "    }\n",
       "\n",
       "    .dataframe tbody tr th {\n",
       "        vertical-align: top;\n",
       "    }\n",
       "\n",
       "    .dataframe thead th {\n",
       "        text-align: right;\n",
       "    }\n",
       "</style>\n",
       "<table border=\"1\" class=\"dataframe\">\n",
       "  <thead>\n",
       "    <tr style=\"text-align: right;\">\n",
       "      <th></th>\n",
       "      <th>id</th>\n",
       "      <th>entity</th>\n",
       "      <th>user</th>\n",
       "      <th>text</th>\n",
       "      <th>title</th>\n",
       "      <th>url</th>\n",
       "      <th>owner</th>\n",
       "      <th>likes</th>\n",
       "      <th>shares</th>\n",
       "      <th>coments</th>\n",
       "      <th>views</th>\n",
       "      <th>date</th>\n",
       "      <th>origem</th>\n",
       "      <th>classificacao</th>\n",
       "      <th>likes_norm</th>\n",
       "      <th>shares_norm</th>\n",
       "      <th>views_norm</th>\n",
       "      <th>coments_norm</th>\n",
       "      <th>score_post</th>\n",
       "    </tr>\n",
       "  </thead>\n",
       "  <tbody>\n",
       "    <tr>\n",
       "      <th>3929</th>\n",
       "      <td>417cdfd9c85d5ad67db881d389881c6e</td>\n",
       "      <td>Adidas</td>\n",
       "      <td>jay</td>\n",
       "      <td>I wish I still had the videos nigga used to be...</td>\n",
       "      <td>None</td>\n",
       "      <td>None</td>\n",
       "      <td>None</td>\n",
       "      <td>0.0</td>\n",
       "      <td>0.0</td>\n",
       "      <td>0.0</td>\n",
       "      <td>11.0</td>\n",
       "      <td>None</td>\n",
       "      <td>x</td>\n",
       "      <td>NEUTRAL</td>\n",
       "      <td>0.000000</td>\n",
       "      <td>0.0</td>\n",
       "      <td>0.000012</td>\n",
       "      <td>0.000000</td>\n",
       "      <td>0.000001</td>\n",
       "    </tr>\n",
       "    <tr>\n",
       "      <th>3930</th>\n",
       "      <td>57310199e28eaf37fd44d9b221cecec1</td>\n",
       "      <td>Adidas</td>\n",
       "      <td>にき</td>\n",
       "      <td>ヒョンジンがY-3着てたりadidas着てるのほんとにすき</td>\n",
       "      <td>None</td>\n",
       "      <td>None</td>\n",
       "      <td>None</td>\n",
       "      <td>0.0</td>\n",
       "      <td>0.0</td>\n",
       "      <td>0.0</td>\n",
       "      <td>36.0</td>\n",
       "      <td>None</td>\n",
       "      <td>x</td>\n",
       "      <td>NEGATIVE</td>\n",
       "      <td>0.000000</td>\n",
       "      <td>0.0</td>\n",
       "      <td>0.000040</td>\n",
       "      <td>0.000000</td>\n",
       "      <td>0.000004</td>\n",
       "    </tr>\n",
       "    <tr>\n",
       "      <th>3931</th>\n",
       "      <td>ed4f1caed5701a77195f3565fe182b32</td>\n",
       "      <td>Adidas</td>\n",
       "      <td>Soulpower</td>\n",
       "      <td>Si hubo mucha plata de Adidas</td>\n",
       "      <td>None</td>\n",
       "      <td>None</td>\n",
       "      <td>None</td>\n",
       "      <td>0.0</td>\n",
       "      <td>0.0</td>\n",
       "      <td>0.0</td>\n",
       "      <td>1464.0</td>\n",
       "      <td>None</td>\n",
       "      <td>x</td>\n",
       "      <td>NEUTRAL</td>\n",
       "      <td>0.000000</td>\n",
       "      <td>0.0</td>\n",
       "      <td>0.001612</td>\n",
       "      <td>0.000000</td>\n",
       "      <td>0.000161</td>\n",
       "    </tr>\n",
       "    <tr>\n",
       "      <th>3932</th>\n",
       "      <td>a0599c6edf0e0f2e6430d3bd125a7920</td>\n",
       "      <td>Adidas</td>\n",
       "      <td>生活の知恵Box</td>\n",
       "      <td>adidas(アディダス)のメンズのジャージ上下セット　&lt;PR&gt;</td>\n",
       "      <td>None</td>\n",
       "      <td>None</td>\n",
       "      <td>None</td>\n",
       "      <td>0.0</td>\n",
       "      <td>0.0</td>\n",
       "      <td>0.0</td>\n",
       "      <td>308.0</td>\n",
       "      <td>None</td>\n",
       "      <td>x</td>\n",
       "      <td>NEUTRAL</td>\n",
       "      <td>0.000000</td>\n",
       "      <td>0.0</td>\n",
       "      <td>0.000339</td>\n",
       "      <td>0.000000</td>\n",
       "      <td>0.000034</td>\n",
       "    </tr>\n",
       "    <tr>\n",
       "      <th>3933</th>\n",
       "      <td>4e640ccedb0c981b89ddc89b5717e654</td>\n",
       "      <td>Adidas</td>\n",
       "      <td>Arlos.ip</td>\n",
       "      <td>This initial</td>\n",
       "      <td>None</td>\n",
       "      <td>None</td>\n",
       "      <td>None</td>\n",
       "      <td>3.0</td>\n",
       "      <td>0.0</td>\n",
       "      <td>2.0</td>\n",
       "      <td>30.0</td>\n",
       "      <td>None</td>\n",
       "      <td>x</td>\n",
       "      <td>NEUTRAL</td>\n",
       "      <td>0.000013</td>\n",
       "      <td>0.0</td>\n",
       "      <td>0.000033</td>\n",
       "      <td>0.000233</td>\n",
       "      <td>0.000054</td>\n",
       "    </tr>\n",
       "  </tbody>\n",
       "</table>\n",
       "</div>"
      ],
      "text/plain": [
       "                                    id  entity       user  \\\n",
       "3929  417cdfd9c85d5ad67db881d389881c6e  Adidas        jay   \n",
       "3930  57310199e28eaf37fd44d9b221cecec1  Adidas         にき   \n",
       "3931  ed4f1caed5701a77195f3565fe182b32  Adidas  Soulpower   \n",
       "3932  a0599c6edf0e0f2e6430d3bd125a7920  Adidas   生活の知恵Box   \n",
       "3933  4e640ccedb0c981b89ddc89b5717e654  Adidas   Arlos.ip   \n",
       "\n",
       "                                                   text title   url owner  \\\n",
       "3929  I wish I still had the videos nigga used to be...  None  None  None   \n",
       "3930                      ヒョンジンがY-3着てたりadidas着てるのほんとにすき  None  None  None   \n",
       "3931                      Si hubo mucha plata de Adidas  None  None  None   \n",
       "3932                   adidas(アディダス)のメンズのジャージ上下セット　<PR>  None  None  None   \n",
       "3933                                       This initial  None  None  None   \n",
       "\n",
       "      likes  shares  coments   views  date origem classificacao  likes_norm  \\\n",
       "3929    0.0     0.0      0.0    11.0  None      x       NEUTRAL    0.000000   \n",
       "3930    0.0     0.0      0.0    36.0  None      x      NEGATIVE    0.000000   \n",
       "3931    0.0     0.0      0.0  1464.0  None      x       NEUTRAL    0.000000   \n",
       "3932    0.0     0.0      0.0   308.0  None      x       NEUTRAL    0.000000   \n",
       "3933    3.0     0.0      2.0    30.0  None      x       NEUTRAL    0.000013   \n",
       "\n",
       "      shares_norm  views_norm  coments_norm  score_post  \n",
       "3929          0.0    0.000012      0.000000    0.000001  \n",
       "3930          0.0    0.000040      0.000000    0.000004  \n",
       "3931          0.0    0.001612      0.000000    0.000161  \n",
       "3932          0.0    0.000339      0.000000    0.000034  \n",
       "3933          0.0    0.000033      0.000233    0.000054  "
      ]
     },
     "execution_count": 6,
     "metadata": {},
     "output_type": "execute_result"
    }
   ],
   "source": [
    "df.tail()"
   ]
  },
  {
   "cell_type": "code",
   "execution_count": 7,
   "id": "c710c7ad",
   "metadata": {},
   "outputs": [],
   "source": [
    "\n",
    "df['entity'] = df['entity'].str.strip().str.lower()\n",
    "\n",
    "# Mapeia nomes padronizados\n",
    "correcoes = {\n",
    "    'openai': 'OpenAI',\n",
    "    'insper': 'Insper',\n",
    "    'google': 'Google',\n",
    "    'adiddas': 'Adidas',\n",
    "    'adidas': 'Adidas', \n",
    "    'nike': 'Nike',\n",
    "    'zara': 'Zara',\n",
    "    'renner': 'Renner'\n",
    "}\n",
    "\n",
    "df['entity'] = df['entity'].replace(correcoes)\n",
    "\n",
    "\n",
    "media_entidades = df.groupby('entity')['score_post'].mean().reset_index()\n",
    "media_entidades.columns = ['entity', 'score_medio']\n",
    "\n",
    "# Calcula a média geral\n",
    "media_geral = media_entidades['score_medio'].mean()\n",
    "\n",
    "# Adiciona uma nova coluna com o score relativo (comparado à média)\n",
    "media_entidades['score_relativo'] = media_entidades['score_medio'] - media_geral\n",
    "\n",
    "# 5. Normalização do score relativo para o intervalo [0, 10]\n",
    "min_score = media_entidades['score_relativo'].min()\n",
    "max_score = media_entidades['score_relativo'].max()\n",
    "\n",
    "media_entidades['score_normalizado'] = (\n",
    "    (media_entidades['score_relativo'] - min_score) / (max_score - min_score)\n",
    ") * 10\n",
    "\n",
    "# 6. Opcional: arredonda para deixar mais apresentável\n",
    "media_entidades['score_normalizado'] = media_entidades['score_normalizado'].round(2)"
   ]
  },
  {
   "cell_type": "code",
   "execution_count": 8,
   "id": "4e2f5b20",
   "metadata": {},
   "outputs": [
    {
     "data": {
      "application/vnd.microsoft.datawrangler.viewer.v0+json": {
       "columns": [
        {
         "name": "index",
         "rawType": "int64",
         "type": "integer"
        },
        {
         "name": "entity",
         "rawType": "object",
         "type": "string"
        },
        {
         "name": "score_medio",
         "rawType": "float64",
         "type": "float"
        },
        {
         "name": "score_relativo",
         "rawType": "float64",
         "type": "float"
        },
        {
         "name": "score_normalizado",
         "rawType": "float64",
         "type": "float"
        }
       ],
       "ref": "79df1446-78f2-438f-a508-bfeebd07f999",
       "rows": [
        [
         "0",
         "Adidas",
         "0.38320689442174105",
         "0.1111310683934183",
         "6.45"
        ],
        [
         "1",
         "Google",
         "0.2332074295831165",
         "-0.03886839644520626",
         "3.78"
        ],
        [
         "2",
         "Insper",
         "0.1441146970667578",
         "-0.12796112896156495",
         "2.18"
        ],
        [
         "3",
         "Nike",
         "0.021838609548573362",
         "-0.2502372164797494",
         "0.0"
        ],
        [
         "4",
         "OpenAI",
         "0.5817269564727995",
         "0.30965113044447673",
         "10.0"
        ],
        [
         "5",
         "Renner",
         "0.2779304453772262",
         "0.005854619348903467",
         "4.57"
        ],
        [
         "6",
         "Zara",
         "0.2625057497280448",
         "-0.009570076300277952",
         "4.3"
        ]
       ],
       "shape": {
        "columns": 4,
        "rows": 7
       }
      },
      "text/html": [
       "<div>\n",
       "<style scoped>\n",
       "    .dataframe tbody tr th:only-of-type {\n",
       "        vertical-align: middle;\n",
       "    }\n",
       "\n",
       "    .dataframe tbody tr th {\n",
       "        vertical-align: top;\n",
       "    }\n",
       "\n",
       "    .dataframe thead th {\n",
       "        text-align: right;\n",
       "    }\n",
       "</style>\n",
       "<table border=\"1\" class=\"dataframe\">\n",
       "  <thead>\n",
       "    <tr style=\"text-align: right;\">\n",
       "      <th></th>\n",
       "      <th>entity</th>\n",
       "      <th>score_medio</th>\n",
       "      <th>score_relativo</th>\n",
       "      <th>score_normalizado</th>\n",
       "    </tr>\n",
       "  </thead>\n",
       "  <tbody>\n",
       "    <tr>\n",
       "      <th>0</th>\n",
       "      <td>Adidas</td>\n",
       "      <td>0.383207</td>\n",
       "      <td>0.111131</td>\n",
       "      <td>6.45</td>\n",
       "    </tr>\n",
       "    <tr>\n",
       "      <th>1</th>\n",
       "      <td>Google</td>\n",
       "      <td>0.233207</td>\n",
       "      <td>-0.038868</td>\n",
       "      <td>3.78</td>\n",
       "    </tr>\n",
       "    <tr>\n",
       "      <th>2</th>\n",
       "      <td>Insper</td>\n",
       "      <td>0.144115</td>\n",
       "      <td>-0.127961</td>\n",
       "      <td>2.18</td>\n",
       "    </tr>\n",
       "    <tr>\n",
       "      <th>3</th>\n",
       "      <td>Nike</td>\n",
       "      <td>0.021839</td>\n",
       "      <td>-0.250237</td>\n",
       "      <td>0.00</td>\n",
       "    </tr>\n",
       "    <tr>\n",
       "      <th>4</th>\n",
       "      <td>OpenAI</td>\n",
       "      <td>0.581727</td>\n",
       "      <td>0.309651</td>\n",
       "      <td>10.00</td>\n",
       "    </tr>\n",
       "    <tr>\n",
       "      <th>5</th>\n",
       "      <td>Renner</td>\n",
       "      <td>0.277930</td>\n",
       "      <td>0.005855</td>\n",
       "      <td>4.57</td>\n",
       "    </tr>\n",
       "    <tr>\n",
       "      <th>6</th>\n",
       "      <td>Zara</td>\n",
       "      <td>0.262506</td>\n",
       "      <td>-0.009570</td>\n",
       "      <td>4.30</td>\n",
       "    </tr>\n",
       "  </tbody>\n",
       "</table>\n",
       "</div>"
      ],
      "text/plain": [
       "   entity  score_medio  score_relativo  score_normalizado\n",
       "0  Adidas     0.383207        0.111131               6.45\n",
       "1  Google     0.233207       -0.038868               3.78\n",
       "2  Insper     0.144115       -0.127961               2.18\n",
       "3    Nike     0.021839       -0.250237               0.00\n",
       "4  OpenAI     0.581727        0.309651              10.00\n",
       "5  Renner     0.277930        0.005855               4.57\n",
       "6    Zara     0.262506       -0.009570               4.30"
      ]
     },
     "execution_count": 8,
     "metadata": {},
     "output_type": "execute_result"
    }
   ],
   "source": [
    "media_entidades"
   ]
  },
  {
   "cell_type": "code",
   "execution_count": 11,
   "id": "63190731",
   "metadata": {},
   "outputs": [],
   "source": [
    "sqlite.setup_table(\"entity_med\", {\n",
    "    \"entity\": \"TEXT\",\n",
    "    \"score_med\": \"REAL\",\n",
    "    \"relat_score\": \"REAL\",\n",
    "    \"normal_score\": \"REAL\"\n",
    "})\n",
    "\n",
    "for _, row in media_entidades.iterrows():\n",
    "    sqlite.insert_data(\"entity_med\", {\n",
    "        \"entity\": row[\"entity\"],\n",
    "        \"score_med\": row[\"score_medio\"],\n",
    "        \"relat_score\": row[\"score_relativo\"],\n",
    "        \"normal_score\": row[\"score_normalizado\"]\n",
    "    })"
   ]
  }
 ],
 "metadata": {
  "kernelspec": {
   "display_name": "env",
   "language": "python",
   "name": "python3"
  },
  "language_info": {
   "codemirror_mode": {
    "name": "ipython",
    "version": 3
   },
   "file_extension": ".py",
   "mimetype": "text/x-python",
   "name": "python",
   "nbconvert_exporter": "python",
   "pygments_lexer": "ipython3",
   "version": "3.13.3"
  }
 },
 "nbformat": 4,
 "nbformat_minor": 5
}
