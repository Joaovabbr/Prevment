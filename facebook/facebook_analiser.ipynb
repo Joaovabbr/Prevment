{
 "cells": [
  {
   "cell_type": "markdown",
   "id": "7f59515d",
   "metadata": {},
   "source": [
    "### Realizando imports"
   ]
  },
  {
   "cell_type": "code",
   "execution_count": 7,
   "id": "b2af8898",
   "metadata": {},
   "outputs": [],
   "source": [
    "from sqlite_handler import SQLiteHandler\n",
    "from word_analiser import word_analyser\n",
    "from langdetect import detect"
   ]
  },
  {
   "cell_type": "code",
   "execution_count": 5,
   "id": "081013b7",
   "metadata": {},
   "outputs": [],
   "source": [
    "RAW_POSTS_TABLE_NAME = 'posts'"
   ]
  },
  {
   "cell_type": "code",
   "execution_count": 3,
   "id": "0597252f",
   "metadata": {},
   "outputs": [],
   "source": [
    "\n",
    "sqlite = SQLiteHandler(\"facebook_posts.db\")\n",
    "sqlite.setup_table(\"posts_classifed\",{\n",
    "    \"id\":\"TEXT PRIMARY KEY\",\n",
    "    \"entity\": \"TEXT\",\n",
    "    \"user\": \"TEXT\",\n",
    "    \"text\": \"TEXT\",\n",
    "    \"likes\": \"INTEGER\",\n",
    "    \"shares\": \"INTEGER\",\n",
    "    \"coments\": \"INTEGER\",\n",
    "    \"lable\": \"TEXT\",\n",
    "    \"score\": \"REAL\",\n",
    "})\n"
   ]
  },
  {
   "cell_type": "code",
   "execution_count": 8,
   "id": "8443b653",
   "metadata": {},
   "outputs": [
    {
     "name": "stdout",
     "output_type": "stream",
     "text": [
      "O resultado da análise do post é [{'label': 'NEUTRAL', 'score': 0.4671904444694519}]\n",
      "O resultado da análise do post é [{'label': 'NEUTRAL', 'score': 0.47858062386512756}]\n",
      "O resultado da análise do post é [{'label': 'POSITIVE', 'score': 0.5427119731903076}]\n",
      "O resultado da análise do post é [{'label': 'NEGATIVE', 'score': 0.4624312222003937}]\n",
      "O resultado da análise do post é [{'label': 'NEUTRAL', 'score': 0.5938757658004761}]\n",
      "O resultado da análise do post é [{'label': 'NEGATIVE', 'score': 0.43904629349708557}]\n",
      "O resultado da análise do post é [{'label': 'NEUTRAL', 'score': 0.49067652225494385}]\n",
      "O resultado da análise do post é [{'label': 'NEUTRAL', 'score': 0.4471052289009094}]\n",
      "O resultado da análise do post é [{'label': 'NEUTRAL', 'score': 0.5554771423339844}]\n",
      "O resultado da análise do post é [{'label': 'NEUTRAL', 'score': 0.4591066241264343}]\n",
      "O resultado da análise do post é [{'label': 'NEUTRAL', 'score': 0.470010906457901}]\n",
      "O resultado da análise do post é [{'label': 'NEUTRAL', 'score': 0.5094215273857117}]\n",
      "O resultado da análise do post é [{'label': 'NEUTRAL', 'score': 0.43803295493125916}]\n"
     ]
    }
   ],
   "source": [
    "for post in sqlite.fetch_data(RAW_POSTS_TABLE_NAME):\n",
    "    post_text = post[3]\n",
    "    if detect(post_text) == 'pt':\n",
    "        result = word_analyser(post_text)\n",
    "        print(f\"O resultado da análise do post é {result}\")\n"
   ]
  }
 ],
 "metadata": {
  "kernelspec": {
   "display_name": "env",
   "language": "python",
   "name": "python3"
  },
  "language_info": {
   "codemirror_mode": {
    "name": "ipython",
    "version": 3
   },
   "file_extension": ".py",
   "mimetype": "text/x-python",
   "name": "python",
   "nbconvert_exporter": "python",
   "pygments_lexer": "ipython3",
   "version": "3.13.3"
  }
 },
 "nbformat": 4,
 "nbformat_minor": 5
}
